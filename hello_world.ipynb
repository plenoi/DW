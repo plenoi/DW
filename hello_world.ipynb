{
  "nbformat": 4,
  "nbformat_minor": 0,
  "metadata": {
    "colab": {
      "name": "hello_world.ipynb",
      "provenance": [],
      "include_colab_link": true
    },
    "kernelspec": {
      "name": "python3",
      "display_name": "Python 3"
    }
  },
  "cells": [
    {
      "cell_type": "markdown",
      "metadata": {
        "id": "view-in-github",
        "colab_type": "text"
      },
      "source": [
        "<a href=\"https://colab.research.google.com/github/plenoi/DW/blob/master/hello_world.ipynb\" target=\"_parent\"><img src=\"https://colab.research.google.com/assets/colab-badge.svg\" alt=\"Open In Colab\"/></a>"
      ]
    },
    {
      "cell_type": "markdown",
      "metadata": {
        "id": "HgtWba_qiQUw",
        "colab_type": "text"
      },
      "source": [
        "# Hello PyThon\n",
        "This is my first PyThon Program"
      ]
    },
    {
      "cell_type": "code",
      "metadata": {
        "id": "E8NjZF41iAGz",
        "colab_type": "code",
        "colab": {
          "base_uri": "https://localhost:8080/",
          "height": 34
        },
        "outputId": "1abfa324-ed67-47be-fb15-05a9aead2e97"
      },
      "source": [
        "print(\"Hello World\")"
      ],
      "execution_count": 1,
      "outputs": [
        {
          "output_type": "stream",
          "text": [
            "Hello World\n"
          ],
          "name": "stdout"
        }
      ]
    },
    {
      "cell_type": "markdown",
      "metadata": {
        "id": "jAcTGyxKjLdG",
        "colab_type": "text"
      },
      "source": [
        "# Declare Variable\n",
        "How to declare variable in PyThon"
      ]
    },
    {
      "cell_type": "code",
      "metadata": {
        "id": "anZYzYr7i0B0",
        "colab_type": "code",
        "colab": {
          "base_uri": "https://localhost:8080/",
          "height": 34
        },
        "outputId": "33d7f7c4-1e6e-45fa-cd4f-bab22c91d238"
      },
      "source": [
        "score = 100\n",
        "name = \"Phasit\"\n",
        "print(\"Name is \" + name + \" score is \"+ str(score))"
      ],
      "execution_count": 3,
      "outputs": [
        {
          "output_type": "stream",
          "text": [
            "Name is Phasit score is 100\n"
          ],
          "name": "stdout"
        }
      ]
    },
    {
      "cell_type": "code",
      "metadata": {
        "id": "YkUuGMRsjkuE",
        "colab_type": "code",
        "colab": {
          "base_uri": "https://localhost:8080/",
          "height": 34
        },
        "outputId": "d41d35d7-82b1-48b6-9790-3fe441da6e83"
      },
      "source": [
        "a = 2\n",
        "b = 3\n",
        "c = a * b\n",
        "print(c)"
      ],
      "execution_count": 5,
      "outputs": [
        {
          "output_type": "stream",
          "text": [
            "6\n"
          ],
          "name": "stdout"
        }
      ]
    },
    {
      "cell_type": "markdown",
      "metadata": {
        "id": "VDJ1XLfgmuFq",
        "colab_type": "text"
      },
      "source": [
        "# List\n",
        "How to use list PyThon"
      ]
    },
    {
      "cell_type": "code",
      "metadata": {
        "id": "tGJRaUVekDhm",
        "colab_type": "code",
        "colab": {
          "base_uri": "https://localhost:8080/",
          "height": 34
        },
        "outputId": "dd25694c-45a1-4a02-cab5-a1acf30621fe"
      },
      "source": [
        "mylist = []\n",
        "mylist.append(\"Phasit\")\n",
        "mylist.append(200)\n",
        "mylist"
      ],
      "execution_count": 6,
      "outputs": [
        {
          "output_type": "execute_result",
          "data": {
            "text/plain": [
              "['Phasit', 200]"
            ]
          },
          "metadata": {
            "tags": []
          },
          "execution_count": 6
        }
      ]
    },
    {
      "cell_type": "markdown",
      "metadata": {
        "id": "2sBHVPj6nFh4",
        "colab_type": "text"
      },
      "source": [
        "How to count data in list"
      ]
    },
    {
      "cell_type": "code",
      "metadata": {
        "id": "Ktq2_3_GnByV",
        "colab_type": "code",
        "colab": {
          "base_uri": "https://localhost:8080/",
          "height": 34
        },
        "outputId": "b87604c8-1e82-4b40-978b-c07a9d578044"
      },
      "source": [
        "len(mylist)"
      ],
      "execution_count": 7,
      "outputs": [
        {
          "output_type": "execute_result",
          "data": {
            "text/plain": [
              "2"
            ]
          },
          "metadata": {
            "tags": []
          },
          "execution_count": 7
        }
      ]
    },
    {
      "cell_type": "markdown",
      "metadata": {
        "id": "k_4iWpu0nxFa",
        "colab_type": "text"
      },
      "source": [
        "# If-Else PyThon\n",
        "How to use if-else in python"
      ]
    },
    {
      "cell_type": "code",
      "metadata": {
        "id": "y1HyPVPJnakI",
        "colab_type": "code",
        "colab": {
          "base_uri": "https://localhost:8080/",
          "height": 34
        },
        "outputId": "e4e8cc9c-1e4b-465e-b6ef-e9229d54ac6c"
      },
      "source": [
        "if mylist[1] > 100 :\n",
        "  print(\"Pass\")"
      ],
      "execution_count": 9,
      "outputs": [
        {
          "output_type": "stream",
          "text": [
            "Pass\n"
          ],
          "name": "stdout"
        }
      ]
    },
    {
      "cell_type": "code",
      "metadata": {
        "id": "DXZ8P7HsoHJ-",
        "colab_type": "code",
        "colab": {
          "base_uri": "https://localhost:8080/",
          "height": 34
        },
        "outputId": "fbdad4a5-e3f7-4172-ee22-665714ff34aa"
      },
      "source": [
        "if mylist[1] > 100 :\n",
        "  name = mylist[0]\n",
        "  score = mylist[1]\n",
        "  print(name+\" \"+str(score))"
      ],
      "execution_count": 12,
      "outputs": [
        {
          "output_type": "stream",
          "text": [
            "Phasit 200\n"
          ],
          "name": "stdout"
        }
      ]
    },
    {
      "cell_type": "code",
      "metadata": {
        "id": "UXB5GqnhoZgQ",
        "colab_type": "code",
        "colab": {
          "base_uri": "https://localhost:8080/",
          "height": 34
        },
        "outputId": "cfd26a8d-afcc-48e3-a263-2073c4c26ee3"
      },
      "source": [
        "score = 5\n",
        "if score > 50 :\n",
        "  print(\"A\")\n",
        "elif score > 20 :\n",
        "  print(\"B\")\n",
        "else:\n",
        "  print(\"C\")\n",
        "  if score == 0:\n",
        "    print(\"F\")"
      ],
      "execution_count": 15,
      "outputs": [
        {
          "output_type": "stream",
          "text": [
            "C\n"
          ],
          "name": "stdout"
        }
      ]
    },
    {
      "cell_type": "markdown",
      "metadata": {
        "id": "E03p_boOqOwk",
        "colab_type": "text"
      },
      "source": [
        "# For Loop in PyThon\n",
        "How to use for loop"
      ]
    },
    {
      "cell_type": "code",
      "metadata": {
        "id": "q_3Y3YVjo2tf",
        "colab_type": "code",
        "colab": {
          "base_uri": "https://localhost:8080/",
          "height": 187
        },
        "outputId": "518918ca-4f60-4ecf-d454-923aa555c78f"
      },
      "source": [
        "summation = []\n",
        "a = 0\n",
        "for i in range(0,10):\n",
        "  a = a + 5\n",
        "  summation.append(a)"
      ],
      "execution_count": 29,
      "outputs": [
        {
          "output_type": "stream",
          "text": [
            "5\n",
            "10\n",
            "15\n",
            "20\n",
            "25\n",
            "30\n",
            "35\n",
            "40\n",
            "45\n",
            "50\n"
          ],
          "name": "stdout"
        }
      ]
    },
    {
      "cell_type": "markdown",
      "metadata": {
        "id": "8wyeSIGJsUC9",
        "colab_type": "text"
      },
      "source": [
        "# For-Each Loop"
      ]
    },
    {
      "cell_type": "code",
      "metadata": {
        "id": "R54ioxlWqd-O",
        "colab_type": "code",
        "colab": {
          "base_uri": "https://localhost:8080/",
          "height": 187
        },
        "outputId": "7b432b33-4ad5-4623-ff60-f74c3010ef66"
      },
      "source": [
        "for i in summation:\n",
        "  print(str(i))"
      ],
      "execution_count": 30,
      "outputs": [
        {
          "output_type": "stream",
          "text": [
            "5\n",
            "10\n",
            "15\n",
            "20\n",
            "25\n",
            "30\n",
            "35\n",
            "40\n",
            "45\n",
            "50\n"
          ],
          "name": "stdout"
        }
      ]
    },
    {
      "cell_type": "code",
      "metadata": {
        "id": "Scs6zu3tsXIq",
        "colab_type": "code",
        "colab": {}
      },
      "source": [
        ""
      ],
      "execution_count": 0,
      "outputs": []
    }
  ]
}